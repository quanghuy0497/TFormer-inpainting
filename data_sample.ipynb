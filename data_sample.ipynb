{
 "cells": [
  {
   "cell_type": "code",
   "execution_count": null,
   "metadata": {},
   "outputs": [],
   "source": [
    "import matplotlib.pyplot as plt\n",
    "from options.train_options import TrainOptions\n",
    "from dataloader.data_loader import dataloader\n",
    "    "
   ]
  },
  {
   "cell_type": "code",
   "execution_count": null,
   "metadata": {},
   "outputs": [],
   "source": [
    "opt = TrainOptions().parse()\n",
    "# create a dataset\n",
    "dataset = dataloader(opt)\n",
    "\n",
    "cols, rows = 3, 3\n",
    "sample_idx = torch.randint(int(len(dataset)/4), size = (cols * rows,))\n",
    "count = 0\n"
   ]
  },
  {
   "cell_type": "code",
   "execution_count": null,
   "metadata": {},
   "outputs": [],
   "source": [
    "figure = plt.figure(figsize=(8, 8))\n",
    "for i, data in enumerate(dataset):\n",
    "    if i in sample_idx:\n",
    "        print(i)\n",
    "        count += 1\n",
    "        figure.add_subplot(rows, cols, count)\n",
    "        plt.title(data['label'][0])\n",
    "        plt.axis(\"off\")\n",
    "        img = data['img'][0].permute(1, 2, 0)\n",
    "        plt.imshow(img.squeeze())\n",
    "    if count == cols * rows: break\n",
    "plt.show()"
   ]
  }
 ],
 "metadata": {
  "language_info": {
   "name": "python"
  },
  "orig_nbformat": 4
 },
 "nbformat": 4,
 "nbformat_minor": 2
}
